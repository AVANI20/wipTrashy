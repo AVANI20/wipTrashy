{
 "cells": [
  {
   "cell_type": "code",
   "execution_count": 1,
   "metadata": {
    "id": "xX3FM-nqgbSQ"
   },
   "outputs": [],
   "source": [
    "import numpy as np\n",
    "import copy\n",
    "import time\n",
    "import torch\n",
    "import torch.nn as nn\n",
    "import torch.optim as optim\n",
    "import torchvision\n",
    "import torchvision.models as models\n",
    "from torchvision import datasets, models, transforms\n",
    "import sys\n",
    "from tqdm import tqdm\n",
    "from wiptrashymodules.dummydataloader import load_data, split_train_val_test\n",
    "from wiptrashymodules.dummyviz import show_confusion_mat, imshow, create_grid_for_mb\n",
    "import matplotlib.pyplot as plt"
   ]
  },
  {
   "cell_type": "code",
   "execution_count": 2,
   "metadata": {
    "id": "KnJvyPRWgbWc"
   },
   "outputs": [],
   "source": [
    "class VGG(object):\n",
    "\n",
    "    def __init__(self, pretrained_model, device, num_classes=25, lr=0.0001, reg=0.0, dtype=np.float32, mode=\"ft_extract\"):\n",
    "        self.params = {}\n",
    "        self.reg = reg\n",
    "        self.dtype = dtype \n",
    "        self.model = pretrained_model\n",
    "        self.num_classes = num_classes\n",
    "        self.lr = lr\n",
    "        self.loss_fn = nn.CrossEntropyLoss()\n",
    "        self.device = device\n",
    "        self.save_model_path = '../wipTrashy/trainedModel1_VGG19.pt'\n",
    "\n",
    "        self.set_parameter_requires_grad(mode)\n",
    "        num_features = self.model.classifier[6].in_features\n",
    "        features = list(self.model.classifier.children())[:-1]                  \n",
    "        features.extend([nn.Linear(num_features, num_classes).to(self.device)]) \n",
    "        self.model.classifier = nn.Sequential(*features)            \n",
    "                            \n",
    "    def set_parameter_requires_grad(self, mode):\n",
    "        if mode == \"ft_extract\":\n",
    "            for param in self.model.features.parameters():\n",
    "                param.requires_grad = False\n",
    "        elif mode == \"finetune_last\":\n",
    "            for param in self.model.features[:19].parameters():\n",
    "                param.requires_grad = False\n",
    "        \n",
    "                \n",
    "    def gather_optimizable_params(self):\n",
    "        params_to_optimize = []\n",
    "        for name, param in self.model.named_parameters():\n",
    "            if param.requires_grad == True:\n",
    "                params_to_optimize.append(param)\n",
    "\n",
    "        return params_to_optimize\n",
    "\n",
    "    \n",
    "    def train(self, dataloaders, dataset_sizes, num_epochs):\n",
    "        best_model_wts = copy.deepcopy(self.model.state_dict())\n",
    "        best_acc = 0.0\n",
    "\n",
    "        params_to_optimize = self.gather_optimizable_params()\n",
    "        optimizer = optim.Adam(params_to_optimize, lr = self.lr)\n",
    "        exp_lr_scheduler = optim.lr_scheduler.StepLR(optimizer, step_size=7, gamma=0.1)\n",
    "\n",
    "        for epoch in tqdm(range(0, num_epochs)):\n",
    "            print(\"Epoch {}/{}\".format(epoch, num_epochs-1))\n",
    "            print('-'*10)\n",
    "            \n",
    "            for mode in ['train', 'val']:\n",
    "                if mode == \"train\":\n",
    "                    exp_lr_scheduler.step()\n",
    "                    self.model.train()\n",
    "                else:\n",
    "                    self.model.eval() \n",
    "                    \n",
    "                total_loss = 0.0\n",
    "                total_correct = 0 \n",
    "\n",
    "                for inputs, labels in dataloaders[mode]:\n",
    "                    inputs = inputs.to(self.device)\n",
    "                    labels = labels.to(self.device)\n",
    "                    \n",
    "                    optimizer.zero_grad()\n",
    "\n",
    "                    with torch.set_grad_enabled(mode == 'train'):\n",
    "                        outputs = self.model(inputs)\n",
    "                        _, y_preds = torch.max(outputs, 1)\n",
    "\n",
    "                        loss = self.loss_fn(outputs, labels)\n",
    "                \n",
    "                        if mode == \"train\":\n",
    "                            loss.backward() \n",
    "                            optimizer.step()\n",
    "                \n",
    "                    total_loss += loss.item() * inputs.size(0)\n",
    "                    total_correct += torch.sum(y_preds == labels.data)\n",
    "                \n",
    "                epoch_loss = total_loss / dataset_sizes[mode]\n",
    "                epoch_acc = total_correct.double() / dataset_sizes[mode]\n",
    "\n",
    "                print('{} Loss: {:.4f} Acc: {:.4f}'.format(mode, epoch_loss, epoch_acc))\n",
    "            \n",
    "                if mode == 'val' and epoch_acc > best_acc:\n",
    "                    best_acc = epoch_acc\n",
    "                    best_model_wts = copy.deepcopy(self.model.state_dict())\n",
    "                    torch.save(self.model.state_dict(), self.save_model_path)\n",
    "                    \n",
    "            print()\n",
    "\n",
    "        print('Best val Acc: {:4f}'.format(best_acc))\n",
    "\n",
    "        self.model.load_state_dict(best_model_wts)\n",
    "\n",
    "        torch.save(self.model.state_dict(), self.save_model_path)\n",
    "        \n",
    "        return self.model\n",
    "\n",
    "\n",
    "\n",
    "    def eval_model(self, dataloaders, mode = 'val'):\n",
    "        since = time.time()\n",
    "        avg_loss, avg_acc, total_loss, total_correct = 0,0,0,0\n",
    "        num_batches = len(dataloaders[mode])\n",
    "        mode_str = \"Validation\" if mode == 'val' else \"Test\"\n",
    "        \n",
    "        print(\"Evaluating model on {} set\".format(mode_str))\n",
    "        print('-' * 10)\n",
    "\n",
    "        with torch.no_grad():\n",
    "            for i, data in enumerate(dataloaders[mode]):\n",
    "                if i % 100 == 0:\n",
    "                    print(\"\\r{} batch {}/{}\".format(mode_str, i, num_batches), end='', flush=True)\n",
    "                \n",
    "                self.model.train(False)\n",
    "                self.model.eval()\n",
    "\n",
    "                inputs, labels = data\n",
    "                inputs = inputs.to(self.device)\n",
    "                labels = labels.to(self.device)\n",
    "                \n",
    "                outputs = self.model(inputs)\n",
    "                \n",
    "                _, preds = torch.max(outputs.data, 1)\n",
    "                loss = self.loss_fn(outputs, labels)\n",
    "                \n",
    "                total_loss += loss.item() * inputs.size(0)\n",
    "                total_correct += torch.sum(preds == labels.data)\n",
    "            \n",
    "                del inputs, labels, outputs, preds\n",
    "                torch.cuda.empty_cache()\n",
    "            \n",
    "        avg_loss = total_loss / dataset_sizes[mode]\n",
    "        avg_acc = total_correct.double() / dataset_sizes[mode]\n",
    "            \n",
    "        elapsed_time = time.time() - since\n",
    "        print()\n",
    "        print(\"Evaluation completed in {:.0f}m {:.0f}s\".format(elapsed_time // 60, elapsed_time % 60))\n",
    "        print(\"Average {} loss     : {:.4f}\".format(mode_str, avg_loss))\n",
    "        print(\"Average {} accuracy : {:.4f}\".format(mode_str, avg_acc))\n",
    "        print('-' * 10)\n",
    "\n",
    "                \n",
    "                \n",
    "    def load_model(self, path, train_mode = False):\n",
    "        self.model.load_state_dict(torch.load(path))\n",
    "        self.model.to(self.device)\n",
    "\n",
    "        if train_mode == False:\n",
    "            self.model.eval()\n",
    "\n",
    "        return self.model\n",
    "\n",
    "\n",
    "    def visualize_model(self, dataloaders, num_images=16):\n",
    "        self.model.train(False)\n",
    "        self.model.eval()\n",
    "        \n",
    "        images_so_far = 0\n",
    "        file_path_base = '../wipTrashy/'\n",
    "        confusion_matrix = torch.zeros(self.num_classes, self.num_classes)\n",
    "                                                   \n",
    "        with torch.no_grad():\n",
    "            for i, data in enumerate(dataloaders['test']):\n",
    "                inputs, labels = data\n",
    "                size = inputs.size()[0]\n",
    "                \n",
    "                inputs = inputs.to(device)\n",
    "                labels = labels.to(device)\n",
    "                \n",
    "                outputs = self.model(inputs)                \n",
    "                _, preds = torch.max(outputs, 1)\n",
    "\n",
    "                for t, p in zip(labels.view(-1), preds.view(-1)):\n",
    "                    confusion_matrix[t.long(), p.long()] += 1\n",
    "                    \n",
    "                create_grid_for_mb(i, inputs, num_images, class_names, preds, labels, file_path_base)\n",
    "        show_confusion_mat(confusion_matrix, self.num_classes, class_names, outfile=file_path_base + \"confusion_matrix_vgg19.jpg\")"
   ]
  },
  {
   "cell_type": "code",
   "execution_count": 3,
   "metadata": {},
   "outputs": [],
   "source": [
    "from wiptrashymodules.dummydataloader import load_data, split_train_val_test\n",
    "split_train_val_test()"
   ]
  },
  {
   "cell_type": "code",
   "execution_count": 4,
   "metadata": {
    "id": "qnLbcN7qgbZB"
   },
   "outputs": [],
   "source": [
    "pathname = '../wipTrashy/trashyTrainTestVal1'\n",
    "dataloaders, dataset_sizes, class_names = load_data(pathname)"
   ]
  },
  {
   "cell_type": "code",
   "execution_count": 8,
   "metadata": {
    "id": "2zhM8t3Igbbj"
   },
   "outputs": [],
   "source": [
    "device = torch.device(\"cuda:0\" if torch.cuda.is_available() else \"cpu\")\n",
    "vgg19 = models.vgg19(weights='VGG19_Weights.DEFAULT').to(device)"
   ]
  },
  {
   "cell_type": "code",
   "execution_count": 9,
   "metadata": {
    "id": "88A6JmbUgbdy"
   },
   "outputs": [],
   "source": [
    "vgg_model = VGG(vgg19, device, num_classes=25, mode=\"finetune_all\")"
   ]
  },
  {
   "cell_type": "code",
   "execution_count": 10,
   "metadata": {},
   "outputs": [
    {
     "data": {
      "text/plain": [
       "VGG(\n",
       "  (features): Sequential(\n",
       "    (0): Conv2d(3, 64, kernel_size=(3, 3), stride=(1, 1), padding=(1, 1))\n",
       "    (1): ReLU(inplace=True)\n",
       "    (2): Conv2d(64, 64, kernel_size=(3, 3), stride=(1, 1), padding=(1, 1))\n",
       "    (3): ReLU(inplace=True)\n",
       "    (4): MaxPool2d(kernel_size=2, stride=2, padding=0, dilation=1, ceil_mode=False)\n",
       "    (5): Conv2d(64, 128, kernel_size=(3, 3), stride=(1, 1), padding=(1, 1))\n",
       "    (6): ReLU(inplace=True)\n",
       "    (7): Conv2d(128, 128, kernel_size=(3, 3), stride=(1, 1), padding=(1, 1))\n",
       "    (8): ReLU(inplace=True)\n",
       "    (9): MaxPool2d(kernel_size=2, stride=2, padding=0, dilation=1, ceil_mode=False)\n",
       "    (10): Conv2d(128, 256, kernel_size=(3, 3), stride=(1, 1), padding=(1, 1))\n",
       "    (11): ReLU(inplace=True)\n",
       "    (12): Conv2d(256, 256, kernel_size=(3, 3), stride=(1, 1), padding=(1, 1))\n",
       "    (13): ReLU(inplace=True)\n",
       "    (14): Conv2d(256, 256, kernel_size=(3, 3), stride=(1, 1), padding=(1, 1))\n",
       "    (15): ReLU(inplace=True)\n",
       "    (16): Conv2d(256, 256, kernel_size=(3, 3), stride=(1, 1), padding=(1, 1))\n",
       "    (17): ReLU(inplace=True)\n",
       "    (18): MaxPool2d(kernel_size=2, stride=2, padding=0, dilation=1, ceil_mode=False)\n",
       "    (19): Conv2d(256, 512, kernel_size=(3, 3), stride=(1, 1), padding=(1, 1))\n",
       "    (20): ReLU(inplace=True)\n",
       "    (21): Conv2d(512, 512, kernel_size=(3, 3), stride=(1, 1), padding=(1, 1))\n",
       "    (22): ReLU(inplace=True)\n",
       "    (23): Conv2d(512, 512, kernel_size=(3, 3), stride=(1, 1), padding=(1, 1))\n",
       "    (24): ReLU(inplace=True)\n",
       "    (25): Conv2d(512, 512, kernel_size=(3, 3), stride=(1, 1), padding=(1, 1))\n",
       "    (26): ReLU(inplace=True)\n",
       "    (27): MaxPool2d(kernel_size=2, stride=2, padding=0, dilation=1, ceil_mode=False)\n",
       "    (28): Conv2d(512, 512, kernel_size=(3, 3), stride=(1, 1), padding=(1, 1))\n",
       "    (29): ReLU(inplace=True)\n",
       "    (30): Conv2d(512, 512, kernel_size=(3, 3), stride=(1, 1), padding=(1, 1))\n",
       "    (31): ReLU(inplace=True)\n",
       "    (32): Conv2d(512, 512, kernel_size=(3, 3), stride=(1, 1), padding=(1, 1))\n",
       "    (33): ReLU(inplace=True)\n",
       "    (34): Conv2d(512, 512, kernel_size=(3, 3), stride=(1, 1), padding=(1, 1))\n",
       "    (35): ReLU(inplace=True)\n",
       "    (36): MaxPool2d(kernel_size=2, stride=2, padding=0, dilation=1, ceil_mode=False)\n",
       "  )\n",
       "  (avgpool): AdaptiveAvgPool2d(output_size=(7, 7))\n",
       "  (classifier): Sequential(\n",
       "    (0): Linear(in_features=25088, out_features=4096, bias=True)\n",
       "    (1): ReLU(inplace=True)\n",
       "    (2): Dropout(p=0.5, inplace=False)\n",
       "    (3): Linear(in_features=4096, out_features=4096, bias=True)\n",
       "    (4): ReLU(inplace=True)\n",
       "    (5): Dropout(p=0.5, inplace=False)\n",
       "    (6): Linear(in_features=4096, out_features=25, bias=True)\n",
       "  )\n",
       ")"
      ]
     },
     "execution_count": 10,
     "metadata": {},
     "output_type": "execute_result"
    }
   ],
   "source": [
    "vgg_model.load_model('../wipTrashy/trainedModel_VGG19.pt', train_mode = False)"
   ]
  },
  {
   "cell_type": "code",
   "execution_count": 11,
   "metadata": {
    "id": "iEU4pkwNgbgR",
    "tags": []
   },
   "outputs": [
    {
     "name": "stderr",
     "output_type": "stream",
     "text": [
      "  0%|                                                                                          | 0/100 [00:00<?, ?it/s]C:\\Users\\avani\\AppData\\Roaming\\jupyterlab-desktop\\jlab_server\\lib\\site-packages\\torch\\optim\\lr_scheduler.py:138: UserWarning: Detected call of `lr_scheduler.step()` before `optimizer.step()`. In PyTorch 1.1.0 and later, you should call them in the opposite order: `optimizer.step()` before `lr_scheduler.step()`.  Failure to do this will result in PyTorch skipping the first value of the learning rate schedule. See more details at https://pytorch.org/docs/stable/optim.html#how-to-adjust-learning-rate\n",
      "  warnings.warn(\"Detected call of `lr_scheduler.step()` before `optimizer.step()`. \"\n"
     ]
    },
    {
     "name": "stdout",
     "output_type": "stream",
     "text": [
      "Epoch 0/99\n",
      "----------\n",
      "train Loss: 0.4402 Acc: 0.8756\n",
      "val Loss: 0.3491 Acc: 0.9046\n"
     ]
    },
    {
     "name": "stderr",
     "output_type": "stream",
     "text": [
      "  1%|▋                                                                         | 1/100 [1:04:45<106:50:23, 3885.09s/it]"
     ]
    },
    {
     "name": "stdout",
     "output_type": "stream",
     "text": [
      "\n",
      "Epoch 1/99\n",
      "----------\n",
      "train Loss: 0.4489 Acc: 0.8721\n",
      "val Loss: 0.3620 Acc: 0.9056\n"
     ]
    },
    {
     "name": "stderr",
     "output_type": "stream",
     "text": [
      "  2%|█▍                                                                        | 2/100 [2:10:13<106:26:49, 3910.30s/it]"
     ]
    },
    {
     "name": "stdout",
     "output_type": "stream",
     "text": [
      "\n",
      "Epoch 2/99\n",
      "----------\n",
      "train Loss: 0.4208 Acc: 0.8784\n",
      "val Loss: 0.3136 Acc: 0.9110\n"
     ]
    },
    {
     "name": "stderr",
     "output_type": "stream",
     "text": [
      "  3%|██▏                                                                       | 3/100 [3:14:26<104:39:59, 3884.53s/it]"
     ]
    },
    {
     "name": "stdout",
     "output_type": "stream",
     "text": [
      "\n",
      "Epoch 3/99\n",
      "----------\n",
      "train Loss: 0.4202 Acc: 0.8783\n"
     ]
    },
    {
     "name": "stderr",
     "output_type": "stream",
     "text": [
      "  4%|██▉                                                                       | 4/100 [4:17:25<102:28:29, 3842.81s/it]"
     ]
    },
    {
     "name": "stdout",
     "output_type": "stream",
     "text": [
      "val Loss: 0.3759 Acc: 0.8895\n",
      "\n",
      "Epoch 4/99\n",
      "----------\n",
      "train Loss: 0.3957 Acc: 0.8858\n"
     ]
    },
    {
     "name": "stderr",
     "output_type": "stream",
     "text": [
      "  5%|███▊                                                                       | 5/100 [5:18:06<99:29:19, 3770.10s/it]"
     ]
    },
    {
     "name": "stdout",
     "output_type": "stream",
     "text": [
      "val Loss: 0.3812 Acc: 0.8971\n",
      "\n",
      "Epoch 5/99\n",
      "----------\n",
      "train Loss: 0.3935 Acc: 0.8866\n"
     ]
    },
    {
     "name": "stderr",
     "output_type": "stream",
     "text": [
      "  6%|████▌                                                                      | 6/100 [6:19:45<97:48:23, 3745.79s/it]"
     ]
    },
    {
     "name": "stdout",
     "output_type": "stream",
     "text": [
      "val Loss: 0.3890 Acc: 0.8931\n",
      "\n",
      "Epoch 6/99\n",
      "----------\n",
      "train Loss: 0.2745 Acc: 0.9185\n",
      "val Loss: 0.2640 Acc: 0.9299\n"
     ]
    },
    {
     "name": "stderr",
     "output_type": "stream",
     "text": [
      "  7%|█████▎                                                                     | 7/100 [7:20:48<96:04:00, 3718.71s/it]"
     ]
    },
    {
     "name": "stdout",
     "output_type": "stream",
     "text": [
      "\n",
      "Epoch 7/99\n",
      "----------\n",
      "train Loss: 0.2091 Acc: 0.9387\n",
      "val Loss: 0.2575 Acc: 0.9318\n"
     ]
    },
    {
     "name": "stderr",
     "output_type": "stream",
     "text": [
      "  8%|██████                                                                     | 8/100 [8:22:14<94:45:55, 3708.21s/it]"
     ]
    },
    {
     "name": "stdout",
     "output_type": "stream",
     "text": [
      "\n",
      "Epoch 8/99\n",
      "----------\n",
      "train Loss: 0.1956 Acc: 0.9439\n"
     ]
    },
    {
     "name": "stderr",
     "output_type": "stream",
     "text": [
      "  9%|██████▊                                                                    | 9/100 [9:23:33<93:30:24, 3699.17s/it]"
     ]
    },
    {
     "name": "stdout",
     "output_type": "stream",
     "text": [
      "val Loss: 0.2657 Acc: 0.9311\n",
      "\n",
      "Epoch 9/99\n",
      "----------\n",
      "train Loss: 0.1986 Acc: 0.9427\n",
      "val Loss: 0.2500 Acc: 0.9358\n"
     ]
    },
    {
     "name": "stderr",
     "output_type": "stream",
     "text": [
      " 10%|███████▎                                                                 | 10/100 [10:24:31<92:09:33, 3686.38s/it]"
     ]
    },
    {
     "name": "stdout",
     "output_type": "stream",
     "text": [
      "\n",
      "Epoch 10/99\n",
      "----------\n",
      "train Loss: 0.1889 Acc: 0.9447\n"
     ]
    },
    {
     "name": "stderr",
     "output_type": "stream",
     "text": [
      " 11%|████████                                                                 | 11/100 [11:25:47<91:03:30, 3683.26s/it]"
     ]
    },
    {
     "name": "stdout",
     "output_type": "stream",
     "text": [
      "val Loss: 0.2513 Acc: 0.9336\n",
      "\n",
      "Epoch 11/99\n",
      "----------\n",
      "train Loss: 0.1787 Acc: 0.9472\n"
     ]
    },
    {
     "name": "stderr",
     "output_type": "stream",
     "text": [
      " 12%|████████▊                                                                | 12/100 [12:27:04<89:59:32, 3681.51s/it]"
     ]
    },
    {
     "name": "stdout",
     "output_type": "stream",
     "text": [
      "val Loss: 0.2578 Acc: 0.9344\n",
      "\n",
      "Epoch 12/99\n",
      "----------\n",
      "train Loss: 0.1723 Acc: 0.9491\n",
      "val Loss: 0.2482 Acc: 0.9378\n"
     ]
    },
    {
     "name": "stderr",
     "output_type": "stream",
     "text": [
      " 13%|█████████▍                                                               | 13/100 [13:28:47<89:07:16, 3687.78s/it]"
     ]
    },
    {
     "name": "stdout",
     "output_type": "stream",
     "text": [
      "\n",
      "Epoch 13/99\n",
      "----------\n",
      "train Loss: 0.1708 Acc: 0.9519\n"
     ]
    },
    {
     "name": "stderr",
     "output_type": "stream",
     "text": [
      " 14%|██████████▏                                                              | 14/100 [14:30:03<88:00:57, 3684.39s/it]"
     ]
    },
    {
     "name": "stdout",
     "output_type": "stream",
     "text": [
      "val Loss: 0.2483 Acc: 0.9362\n",
      "\n",
      "Epoch 14/99\n",
      "----------\n",
      "train Loss: 0.1674 Acc: 0.9513\n"
     ]
    },
    {
     "name": "stderr",
     "output_type": "stream",
     "text": [
      " 15%|██████████▉                                                              | 15/100 [15:31:36<87:03:03, 3686.86s/it]"
     ]
    },
    {
     "name": "stdout",
     "output_type": "stream",
     "text": [
      "val Loss: 0.2496 Acc: 0.9356\n",
      "\n",
      "Epoch 15/99\n",
      "----------\n",
      "train Loss: 0.1599 Acc: 0.9529\n"
     ]
    },
    {
     "name": "stderr",
     "output_type": "stream",
     "text": [
      " 16%|███████████▋                                                             | 16/100 [16:32:50<85:56:26, 3683.17s/it]"
     ]
    },
    {
     "name": "stdout",
     "output_type": "stream",
     "text": [
      "val Loss: 0.2492 Acc: 0.9368\n",
      "\n",
      "Epoch 16/99\n",
      "----------\n",
      "train Loss: 0.1605 Acc: 0.9525\n"
     ]
    },
    {
     "name": "stderr",
     "output_type": "stream",
     "text": [
      " 17%|████████████▍                                                            | 17/100 [17:33:57<84:48:17, 3678.28s/it]"
     ]
    },
    {
     "name": "stdout",
     "output_type": "stream",
     "text": [
      "val Loss: 0.2483 Acc: 0.9358\n",
      "\n",
      "Epoch 17/99\n",
      "----------\n",
      "train Loss: 0.1665 Acc: 0.9509\n"
     ]
    },
    {
     "name": "stderr",
     "output_type": "stream",
     "text": [
      " 18%|█████████████▏                                                           | 18/100 [18:36:00<84:05:03, 3691.51s/it]"
     ]
    },
    {
     "name": "stdout",
     "output_type": "stream",
     "text": [
      "val Loss: 0.2494 Acc: 0.9362\n",
      "\n",
      "Epoch 18/99\n",
      "----------\n",
      "train Loss: 0.1508 Acc: 0.9556\n"
     ]
    },
    {
     "name": "stderr",
     "output_type": "stream",
     "text": [
      " 19%|█████████████▊                                                           | 19/100 [19:37:38<83:06:29, 3693.70s/it]"
     ]
    },
    {
     "name": "stdout",
     "output_type": "stream",
     "text": [
      "val Loss: 0.2484 Acc: 0.9364\n",
      "\n",
      "Epoch 19/99\n",
      "----------\n",
      "train Loss: 0.1572 Acc: 0.9533\n"
     ]
    },
    {
     "name": "stderr",
     "output_type": "stream",
     "text": [
      " 20%|██████████████▌                                                          | 20/100 [20:39:11<82:04:35, 3693.44s/it]"
     ]
    },
    {
     "name": "stdout",
     "output_type": "stream",
     "text": [
      "val Loss: 0.2472 Acc: 0.9360\n",
      "\n",
      "Epoch 20/99\n",
      "----------\n",
      "train Loss: 0.1509 Acc: 0.9560\n"
     ]
    },
    {
     "name": "stderr",
     "output_type": "stream",
     "text": [
      " 21%|███████████████▎                                                         | 21/100 [21:40:45<81:03:11, 3693.56s/it]"
     ]
    },
    {
     "name": "stdout",
     "output_type": "stream",
     "text": [
      "val Loss: 0.2474 Acc: 0.9358\n",
      "\n",
      "Epoch 21/99\n",
      "----------\n",
      "train Loss: 0.1548 Acc: 0.9531\n"
     ]
    },
    {
     "name": "stderr",
     "output_type": "stream",
     "text": [
      " 22%|████████████████                                                         | 22/100 [22:43:06<80:20:12, 3707.86s/it]"
     ]
    },
    {
     "name": "stdout",
     "output_type": "stream",
     "text": [
      "val Loss: 0.2474 Acc: 0.9358\n",
      "\n",
      "Epoch 22/99\n",
      "----------\n",
      "train Loss: 0.1585 Acc: 0.9546\n"
     ]
    },
    {
     "name": "stderr",
     "output_type": "stream",
     "text": [
      " 23%|████████████████▊                                                        | 23/100 [23:45:09<79:24:07, 3712.31s/it]"
     ]
    },
    {
     "name": "stdout",
     "output_type": "stream",
     "text": [
      "val Loss: 0.2474 Acc: 0.9362\n",
      "\n",
      "Epoch 23/99\n",
      "----------\n",
      "train Loss: 0.1640 Acc: 0.9510\n"
     ]
    },
    {
     "name": "stderr",
     "output_type": "stream",
     "text": [
      " 24%|█████████████████▌                                                       | 24/100 [24:47:03<78:22:50, 3712.76s/it]"
     ]
    },
    {
     "name": "stdout",
     "output_type": "stream",
     "text": [
      "val Loss: 0.2474 Acc: 0.9358\n",
      "\n",
      "Epoch 24/99\n",
      "----------\n",
      "train Loss: 0.1594 Acc: 0.9536\n"
     ]
    },
    {
     "name": "stderr",
     "output_type": "stream",
     "text": [
      " 25%|██████████████████▎                                                      | 25/100 [25:48:39<77:14:34, 3707.66s/it]"
     ]
    },
    {
     "name": "stdout",
     "output_type": "stream",
     "text": [
      "val Loss: 0.2475 Acc: 0.9362\n",
      "\n",
      "Epoch 25/99\n",
      "----------\n",
      "train Loss: 0.1648 Acc: 0.9522\n"
     ]
    },
    {
     "name": "stderr",
     "output_type": "stream",
     "text": [
      " 26%|██████████████████▉                                                      | 26/100 [26:50:21<76:10:43, 3705.99s/it]"
     ]
    },
    {
     "name": "stdout",
     "output_type": "stream",
     "text": [
      "val Loss: 0.2474 Acc: 0.9360\n",
      "\n",
      "Epoch 26/99\n",
      "----------\n",
      "train Loss: 0.1620 Acc: 0.9541\n"
     ]
    },
    {
     "name": "stderr",
     "output_type": "stream",
     "text": [
      " 27%|███████████████████▋                                                     | 27/100 [27:52:24<75:15:16, 3711.19s/it]"
     ]
    },
    {
     "name": "stdout",
     "output_type": "stream",
     "text": [
      "val Loss: 0.2474 Acc: 0.9360\n",
      "\n",
      "Epoch 27/99\n",
      "----------\n",
      "train Loss: 0.1515 Acc: 0.9557\n"
     ]
    },
    {
     "name": "stderr",
     "output_type": "stream",
     "text": [
      " 28%|████████████████████▍                                                    | 28/100 [28:54:18<74:14:21, 3711.96s/it]"
     ]
    },
    {
     "name": "stdout",
     "output_type": "stream",
     "text": [
      "val Loss: 0.2474 Acc: 0.9360\n",
      "\n",
      "Epoch 28/99\n",
      "----------\n",
      "train Loss: 0.1694 Acc: 0.9518\n"
     ]
    },
    {
     "name": "stderr",
     "output_type": "stream",
     "text": [
      " 29%|█████████████████████▏                                                   | 29/100 [29:56:00<73:09:02, 3709.05s/it]"
     ]
    },
    {
     "name": "stdout",
     "output_type": "stream",
     "text": [
      "val Loss: 0.2474 Acc: 0.9360\n",
      "\n",
      "Epoch 29/99\n",
      "----------\n",
      "train Loss: 0.1622 Acc: 0.9532\n"
     ]
    },
    {
     "name": "stderr",
     "output_type": "stream",
     "text": [
      " 30%|█████████████████████▉                                                   | 30/100 [30:57:55<72:09:18, 3710.84s/it]"
     ]
    },
    {
     "name": "stdout",
     "output_type": "stream",
     "text": [
      "val Loss: 0.2474 Acc: 0.9360\n",
      "\n",
      "Epoch 30/99\n",
      "----------\n",
      "train Loss: 0.1497 Acc: 0.9565\n"
     ]
    },
    {
     "name": "stderr",
     "output_type": "stream",
     "text": [
      " 31%|██████████████████████▋                                                  | 31/100 [31:59:36<71:03:54, 3707.75s/it]"
     ]
    },
    {
     "name": "stdout",
     "output_type": "stream",
     "text": [
      "val Loss: 0.2474 Acc: 0.9362\n",
      "\n",
      "Epoch 31/99\n",
      "----------\n",
      "train Loss: 0.1556 Acc: 0.9538\n"
     ]
    },
    {
     "name": "stderr",
     "output_type": "stream",
     "text": [
      " 32%|███████████████████████▎                                                 | 32/100 [33:01:32<70:04:55, 3710.22s/it]"
     ]
    },
    {
     "name": "stdout",
     "output_type": "stream",
     "text": [
      "val Loss: 0.2474 Acc: 0.9362\n",
      "\n",
      "Epoch 32/99\n",
      "----------\n",
      "train Loss: 0.1595 Acc: 0.9525\n"
     ]
    },
    {
     "name": "stderr",
     "output_type": "stream",
     "text": [
      " 33%|████████████████████████                                                 | 33/100 [34:03:10<68:59:14, 3706.79s/it]"
     ]
    },
    {
     "name": "stdout",
     "output_type": "stream",
     "text": [
      "val Loss: 0.2474 Acc: 0.9360\n",
      "\n",
      "Epoch 33/99\n",
      "----------\n",
      "train Loss: 0.1584 Acc: 0.9551\n"
     ]
    },
    {
     "name": "stderr",
     "output_type": "stream",
     "text": [
      " 34%|████████████████████████▊                                                | 34/100 [35:04:28<67:47:57, 3698.15s/it]"
     ]
    },
    {
     "name": "stdout",
     "output_type": "stream",
     "text": [
      "val Loss: 0.2474 Acc: 0.9362\n",
      "\n",
      "Epoch 34/99\n",
      "----------\n",
      "train Loss: 0.1626 Acc: 0.9535\n"
     ]
    },
    {
     "name": "stderr",
     "output_type": "stream",
     "text": [
      " 35%|█████████████████████████▌                                               | 35/100 [36:06:07<66:46:26, 3698.26s/it]"
     ]
    },
    {
     "name": "stdout",
     "output_type": "stream",
     "text": [
      "val Loss: 0.2474 Acc: 0.9362\n",
      "\n",
      "Epoch 35/99\n",
      "----------\n",
      "train Loss: 0.1629 Acc: 0.9515\n"
     ]
    },
    {
     "name": "stderr",
     "output_type": "stream",
     "text": [
      " 36%|██████████████████████████▎                                              | 36/100 [37:07:46<65:45:03, 3698.49s/it]"
     ]
    },
    {
     "name": "stdout",
     "output_type": "stream",
     "text": [
      "val Loss: 0.2474 Acc: 0.9362\n",
      "\n",
      "Epoch 36/99\n",
      "----------\n",
      "train Loss: 0.1443 Acc: 0.9578\n"
     ]
    },
    {
     "name": "stderr",
     "output_type": "stream",
     "text": [
      " 37%|███████████████████████████                                              | 37/100 [38:09:23<64:42:51, 3697.97s/it]"
     ]
    },
    {
     "name": "stdout",
     "output_type": "stream",
     "text": [
      "val Loss: 0.2474 Acc: 0.9362\n",
      "\n",
      "Epoch 37/99\n",
      "----------\n",
      "train Loss: 0.1625 Acc: 0.9521\n"
     ]
    },
    {
     "name": "stderr",
     "output_type": "stream",
     "text": [
      " 38%|███████████████████████████▋                                             | 38/100 [39:11:02<63:41:33, 3698.28s/it]"
     ]
    },
    {
     "name": "stdout",
     "output_type": "stream",
     "text": [
      "val Loss: 0.2474 Acc: 0.9362\n",
      "\n",
      "Epoch 38/99\n",
      "----------\n",
      "train Loss: 0.1504 Acc: 0.9559\n"
     ]
    },
    {
     "name": "stderr",
     "output_type": "stream",
     "text": [
      " 39%|████████████████████████████▍                                            | 39/100 [40:12:42<62:40:26, 3698.80s/it]"
     ]
    },
    {
     "name": "stdout",
     "output_type": "stream",
     "text": [
      "val Loss: 0.2474 Acc: 0.9362\n",
      "\n",
      "Epoch 39/99\n",
      "----------\n",
      "train Loss: 0.1604 Acc: 0.9539\n"
     ]
    },
    {
     "name": "stderr",
     "output_type": "stream",
     "text": [
      " 40%|█████████████████████████████▏                                           | 40/100 [41:14:20<61:38:36, 3698.61s/it]"
     ]
    },
    {
     "name": "stdout",
     "output_type": "stream",
     "text": [
      "val Loss: 0.2474 Acc: 0.9362\n",
      "\n",
      "Epoch 40/99\n",
      "----------\n",
      "train Loss: 0.1625 Acc: 0.9527\n"
     ]
    },
    {
     "name": "stderr",
     "output_type": "stream",
     "text": [
      " 41%|█████████████████████████████▉                                           | 41/100 [42:16:27<60:45:25, 3707.21s/it]"
     ]
    },
    {
     "name": "stdout",
     "output_type": "stream",
     "text": [
      "val Loss: 0.2474 Acc: 0.9362\n",
      "\n",
      "Epoch 41/99\n",
      "----------\n",
      "train Loss: 0.1664 Acc: 0.9510\n"
     ]
    },
    {
     "name": "stderr",
     "output_type": "stream",
     "text": [
      " 42%|██████████████████████████████▋                                          | 42/100 [43:18:31<59:48:21, 3712.10s/it]"
     ]
    },
    {
     "name": "stdout",
     "output_type": "stream",
     "text": [
      "val Loss: 0.2474 Acc: 0.9362\n",
      "\n",
      "Epoch 42/99\n",
      "----------\n",
      "train Loss: 0.1631 Acc: 0.9525\n"
     ]
    },
    {
     "name": "stderr",
     "output_type": "stream",
     "text": [
      " 43%|███████████████████████████████▍                                         | 43/100 [44:20:01<58:40:25, 3705.71s/it]"
     ]
    },
    {
     "name": "stdout",
     "output_type": "stream",
     "text": [
      "val Loss: 0.2474 Acc: 0.9362\n",
      "\n",
      "Epoch 43/99\n",
      "----------\n",
      "train Loss: 0.1613 Acc: 0.9524\n"
     ]
    },
    {
     "name": "stderr",
     "output_type": "stream",
     "text": [
      " 44%|████████████████████████████████                                         | 44/100 [45:21:39<57:36:28, 3703.36s/it]"
     ]
    },
    {
     "name": "stdout",
     "output_type": "stream",
     "text": [
      "val Loss: 0.2474 Acc: 0.9362\n",
      "\n",
      "Epoch 44/99\n",
      "----------\n",
      "train Loss: 0.1522 Acc: 0.9583\n"
     ]
    },
    {
     "name": "stderr",
     "output_type": "stream",
     "text": [
      " 45%|████████████████████████████████▊                                        | 45/100 [46:23:44<56:40:31, 3709.66s/it]"
     ]
    },
    {
     "name": "stdout",
     "output_type": "stream",
     "text": [
      "val Loss: 0.2474 Acc: 0.9362\n",
      "\n",
      "Epoch 45/99\n",
      "----------\n",
      "train Loss: 0.1643 Acc: 0.9533\n"
     ]
    },
    {
     "name": "stderr",
     "output_type": "stream",
     "text": [
      " 46%|█████████████████████████████████▌                                       | 46/100 [47:25:31<55:37:57, 3708.84s/it]"
     ]
    },
    {
     "name": "stdout",
     "output_type": "stream",
     "text": [
      "val Loss: 0.2474 Acc: 0.9362\n",
      "\n",
      "Epoch 46/99\n",
      "----------\n",
      "train Loss: 0.1598 Acc: 0.9543\n"
     ]
    },
    {
     "name": "stderr",
     "output_type": "stream",
     "text": [
      " 47%|██████████████████████████████████▎                                      | 47/100 [48:27:05<54:32:22, 3704.58s/it]"
     ]
    },
    {
     "name": "stdout",
     "output_type": "stream",
     "text": [
      "val Loss: 0.2474 Acc: 0.9362\n",
      "\n",
      "Epoch 47/99\n",
      "----------\n",
      "train Loss: 0.1581 Acc: 0.9528\n"
     ]
    },
    {
     "name": "stderr",
     "output_type": "stream",
     "text": [
      " 48%|███████████████████████████████████                                      | 48/100 [49:28:32<53:26:08, 3699.39s/it]"
     ]
    },
    {
     "name": "stdout",
     "output_type": "stream",
     "text": [
      "val Loss: 0.2474 Acc: 0.9362\n",
      "\n",
      "Epoch 48/99\n",
      "----------\n",
      "train Loss: 0.1594 Acc: 0.9517\n"
     ]
    },
    {
     "name": "stderr",
     "output_type": "stream",
     "text": [
      " 49%|███████████████████████████████████▊                                     | 49/100 [50:29:49<52:18:40, 3692.57s/it]"
     ]
    },
    {
     "name": "stdout",
     "output_type": "stream",
     "text": [
      "val Loss: 0.2474 Acc: 0.9362\n",
      "\n",
      "Epoch 49/99\n",
      "----------\n",
      "train Loss: 0.1495 Acc: 0.9570\n"
     ]
    },
    {
     "name": "stderr",
     "output_type": "stream",
     "text": [
      " 50%|████████████████████████████████████▌                                    | 50/100 [51:31:30<51:19:17, 3695.14s/it]"
     ]
    },
    {
     "name": "stdout",
     "output_type": "stream",
     "text": [
      "val Loss: 0.2474 Acc: 0.9362\n",
      "\n",
      "Epoch 50/99\n",
      "----------\n",
      "train Loss: 0.1478 Acc: 0.9554\n"
     ]
    },
    {
     "name": "stderr",
     "output_type": "stream",
     "text": [
      " 51%|█████████████████████████████████████▏                                   | 51/100 [52:33:01<50:16:33, 3693.74s/it]"
     ]
    },
    {
     "name": "stdout",
     "output_type": "stream",
     "text": [
      "val Loss: 0.2474 Acc: 0.9362\n",
      "\n",
      "Epoch 51/99\n",
      "----------\n",
      "train Loss: 0.1614 Acc: 0.9516\n"
     ]
    },
    {
     "name": "stderr",
     "output_type": "stream",
     "text": [
      " 52%|█████████████████████████████████████▉                                   | 52/100 [53:34:22<49:12:00, 3690.01s/it]"
     ]
    },
    {
     "name": "stdout",
     "output_type": "stream",
     "text": [
      "val Loss: 0.2474 Acc: 0.9362\n",
      "\n",
      "Epoch 52/99\n",
      "----------\n",
      "train Loss: 0.1556 Acc: 0.9549\n"
     ]
    },
    {
     "name": "stderr",
     "output_type": "stream",
     "text": [
      " 53%|██████████████████████████████████████▋                                  | 53/100 [54:35:58<48:11:54, 3691.79s/it]"
     ]
    },
    {
     "name": "stdout",
     "output_type": "stream",
     "text": [
      "val Loss: 0.2474 Acc: 0.9362\n",
      "\n",
      "Epoch 53/99\n",
      "----------\n",
      "train Loss: 0.1597 Acc: 0.9531\n"
     ]
    },
    {
     "name": "stderr",
     "output_type": "stream",
     "text": [
      " 54%|███████████████████████████████████████▍                                 | 54/100 [55:37:25<47:09:11, 3690.26s/it]"
     ]
    },
    {
     "name": "stdout",
     "output_type": "stream",
     "text": [
      "val Loss: 0.2474 Acc: 0.9362\n",
      "\n",
      "Epoch 54/99\n",
      "----------\n",
      "train Loss: 0.1475 Acc: 0.9563\n"
     ]
    },
    {
     "name": "stderr",
     "output_type": "stream",
     "text": [
      " 55%|████████████████████████████████████████▏                                | 55/100 [56:38:49<46:06:20, 3688.47s/it]"
     ]
    },
    {
     "name": "stdout",
     "output_type": "stream",
     "text": [
      "val Loss: 0.2474 Acc: 0.9362\n",
      "\n",
      "Epoch 55/99\n",
      "----------\n",
      "train Loss: 0.1604 Acc: 0.9514\n"
     ]
    },
    {
     "name": "stderr",
     "output_type": "stream",
     "text": [
      " 56%|████████████████████████████████████████▉                                | 56/100 [57:40:21<45:05:33, 3689.41s/it]"
     ]
    },
    {
     "name": "stdout",
     "output_type": "stream",
     "text": [
      "val Loss: 0.2474 Acc: 0.9362\n",
      "\n",
      "Epoch 56/99\n",
      "----------\n",
      "train Loss: 0.1537 Acc: 0.9558\n"
     ]
    },
    {
     "name": "stderr",
     "output_type": "stream",
     "text": [
      " 57%|█████████████████████████████████████████▌                               | 57/100 [58:41:49<44:03:56, 3689.22s/it]"
     ]
    },
    {
     "name": "stdout",
     "output_type": "stream",
     "text": [
      "val Loss: 0.2474 Acc: 0.9362\n",
      "\n",
      "Epoch 57/99\n",
      "----------\n",
      "train Loss: 0.1629 Acc: 0.9536\n"
     ]
    },
    {
     "name": "stderr",
     "output_type": "stream",
     "text": [
      " 58%|██████████████████████████████████████████▎                              | 58/100 [59:43:18<43:02:20, 3689.06s/it]"
     ]
    },
    {
     "name": "stdout",
     "output_type": "stream",
     "text": [
      "val Loss: 0.2474 Acc: 0.9362\n",
      "\n",
      "Epoch 58/99\n",
      "----------\n",
      "train Loss: 0.1489 Acc: 0.9546\n"
     ]
    },
    {
     "name": "stderr",
     "output_type": "stream",
     "text": [
      " 59%|███████████████████████████████████████████                              | 59/100 [60:44:36<41:58:37, 3685.79s/it]"
     ]
    },
    {
     "name": "stdout",
     "output_type": "stream",
     "text": [
      "val Loss: 0.2474 Acc: 0.9362\n",
      "\n",
      "Epoch 59/99\n",
      "----------\n",
      "train Loss: 0.1469 Acc: 0.9559\n"
     ]
    },
    {
     "name": "stderr",
     "output_type": "stream",
     "text": [
      " 60%|███████████████████████████████████████████▊                             | 60/100 [61:45:59<40:56:39, 3684.99s/it]"
     ]
    },
    {
     "name": "stdout",
     "output_type": "stream",
     "text": [
      "val Loss: 0.2474 Acc: 0.9362\n",
      "\n",
      "Epoch 60/99\n",
      "----------\n",
      "train Loss: 0.1578 Acc: 0.9518\n"
     ]
    },
    {
     "name": "stderr",
     "output_type": "stream",
     "text": [
      " 61%|████████████████████████████████████████████▌                            | 61/100 [62:47:15<39:53:27, 3682.24s/it]"
     ]
    },
    {
     "name": "stdout",
     "output_type": "stream",
     "text": [
      "val Loss: 0.2474 Acc: 0.9362\n",
      "\n",
      "Epoch 61/99\n",
      "----------\n",
      "train Loss: 0.1576 Acc: 0.9554\n"
     ]
    },
    {
     "name": "stderr",
     "output_type": "stream",
     "text": [
      " 62%|█████████████████████████████████████████████▎                           | 62/100 [63:48:41<38:52:47, 3683.34s/it]"
     ]
    },
    {
     "name": "stdout",
     "output_type": "stream",
     "text": [
      "val Loss: 0.2474 Acc: 0.9362\n",
      "\n",
      "Epoch 62/99\n",
      "----------\n",
      "train Loss: 0.1656 Acc: 0.9516\n"
     ]
    },
    {
     "name": "stderr",
     "output_type": "stream",
     "text": [
      " 63%|█████████████████████████████████████████████▉                           | 63/100 [64:50:17<37:53:46, 3687.20s/it]"
     ]
    },
    {
     "name": "stdout",
     "output_type": "stream",
     "text": [
      "val Loss: 0.2474 Acc: 0.9362\n",
      "\n",
      "Epoch 63/99\n",
      "----------\n",
      "train Loss: 0.1510 Acc: 0.9563\n"
     ]
    },
    {
     "name": "stderr",
     "output_type": "stream",
     "text": [
      " 64%|██████████████████████████████████████████████▋                          | 64/100 [65:51:20<36:48:00, 3680.01s/it]"
     ]
    },
    {
     "name": "stdout",
     "output_type": "stream",
     "text": [
      "val Loss: 0.2474 Acc: 0.9362\n",
      "\n",
      "Epoch 64/99\n",
      "----------\n",
      "train Loss: 0.1516 Acc: 0.9563\n"
     ]
    },
    {
     "name": "stderr",
     "output_type": "stream",
     "text": [
      " 65%|███████████████████████████████████████████████▍                         | 65/100 [66:52:42<35:46:56, 3680.48s/it]"
     ]
    },
    {
     "name": "stdout",
     "output_type": "stream",
     "text": [
      "val Loss: 0.2474 Acc: 0.9362\n",
      "\n",
      "Epoch 65/99\n",
      "----------\n",
      "train Loss: 0.1638 Acc: 0.9520\n"
     ]
    },
    {
     "name": "stderr",
     "output_type": "stream",
     "text": [
      " 66%|████████████████████████████████████████████████▏                        | 66/100 [67:54:14<34:47:29, 3683.80s/it]"
     ]
    },
    {
     "name": "stdout",
     "output_type": "stream",
     "text": [
      "val Loss: 0.2474 Acc: 0.9362\n",
      "\n",
      "Epoch 66/99\n",
      "----------\n",
      "train Loss: 0.1572 Acc: 0.9540\n"
     ]
    },
    {
     "name": "stderr",
     "output_type": "stream",
     "text": [
      " 67%|████████████████████████████████████████████████▉                        | 67/100 [68:55:48<33:47:54, 3687.10s/it]"
     ]
    },
    {
     "name": "stdout",
     "output_type": "stream",
     "text": [
      "val Loss: 0.2474 Acc: 0.9362\n",
      "\n",
      "Epoch 67/99\n",
      "----------\n",
      "train Loss: 0.1520 Acc: 0.9549\n"
     ]
    },
    {
     "name": "stderr",
     "output_type": "stream",
     "text": [
      " 68%|█████████████████████████████████████████████████▋                       | 68/100 [69:57:44<32:51:03, 3695.72s/it]"
     ]
    },
    {
     "name": "stdout",
     "output_type": "stream",
     "text": [
      "val Loss: 0.2474 Acc: 0.9362\n",
      "\n",
      "Epoch 68/99\n",
      "----------\n",
      "train Loss: 0.1595 Acc: 0.9558\n"
     ]
    },
    {
     "name": "stderr",
     "output_type": "stream",
     "text": [
      " 69%|██████████████████████████████████████████████████▎                      | 69/100 [70:59:22<31:49:48, 3696.40s/it]"
     ]
    },
    {
     "name": "stdout",
     "output_type": "stream",
     "text": [
      "val Loss: 0.2474 Acc: 0.9362\n",
      "\n",
      "Epoch 69/99\n",
      "----------\n",
      "train Loss: 0.1619 Acc: 0.9551\n"
     ]
    },
    {
     "name": "stderr",
     "output_type": "stream",
     "text": [
      " 70%|███████████████████████████████████████████████████                      | 70/100 [72:00:45<30:46:07, 3692.25s/it]"
     ]
    },
    {
     "name": "stdout",
     "output_type": "stream",
     "text": [
      "val Loss: 0.2474 Acc: 0.9362\n",
      "\n",
      "Epoch 70/99\n",
      "----------\n",
      "train Loss: 0.1555 Acc: 0.9525\n"
     ]
    },
    {
     "name": "stderr",
     "output_type": "stream",
     "text": [
      " 71%|███████████████████████████████████████████████████▊                     | 71/100 [73:02:10<29:43:32, 3690.08s/it]"
     ]
    },
    {
     "name": "stdout",
     "output_type": "stream",
     "text": [
      "val Loss: 0.2474 Acc: 0.9362\n",
      "\n",
      "Epoch 71/99\n",
      "----------\n",
      "train Loss: 0.1510 Acc: 0.9566\n"
     ]
    },
    {
     "name": "stderr",
     "output_type": "stream",
     "text": [
      " 72%|████████████████████████████████████████████████████▌                    | 72/100 [74:03:31<28:40:44, 3687.31s/it]"
     ]
    },
    {
     "name": "stdout",
     "output_type": "stream",
     "text": [
      "val Loss: 0.2474 Acc: 0.9362\n",
      "\n",
      "Epoch 72/99\n",
      "----------\n",
      "train Loss: 0.1565 Acc: 0.9540\n"
     ]
    },
    {
     "name": "stderr",
     "output_type": "stream",
     "text": [
      " 73%|█████████████████████████████████████████████████████▎                   | 73/100 [75:04:55<27:38:55, 3686.49s/it]"
     ]
    },
    {
     "name": "stdout",
     "output_type": "stream",
     "text": [
      "val Loss: 0.2474 Acc: 0.9362\n",
      "\n",
      "Epoch 73/99\n",
      "----------\n",
      "train Loss: 0.1522 Acc: 0.9537\n"
     ]
    },
    {
     "name": "stderr",
     "output_type": "stream",
     "text": [
      " 74%|██████████████████████████████████████████████████████                   | 74/100 [76:06:18<26:36:59, 3685.37s/it]"
     ]
    },
    {
     "name": "stdout",
     "output_type": "stream",
     "text": [
      "val Loss: 0.2474 Acc: 0.9362\n",
      "\n",
      "Epoch 74/99\n",
      "----------\n",
      "train Loss: 0.1438 Acc: 0.9572\n"
     ]
    },
    {
     "name": "stderr",
     "output_type": "stream",
     "text": [
      " 75%|██████████████████████████████████████████████████████▊                  | 75/100 [77:07:46<25:35:52, 3686.08s/it]"
     ]
    },
    {
     "name": "stdout",
     "output_type": "stream",
     "text": [
      "val Loss: 0.2474 Acc: 0.9362\n",
      "\n",
      "Epoch 75/99\n",
      "----------\n",
      "train Loss: 0.1504 Acc: 0.9545\n"
     ]
    },
    {
     "name": "stderr",
     "output_type": "stream",
     "text": [
      " 76%|███████████████████████████████████████████████████████▍                 | 76/100 [78:09:22<24:35:41, 3689.22s/it]"
     ]
    },
    {
     "name": "stdout",
     "output_type": "stream",
     "text": [
      "val Loss: 0.2474 Acc: 0.9362\n",
      "\n",
      "Epoch 76/99\n",
      "----------\n",
      "train Loss: 0.1708 Acc: 0.9514\n"
     ]
    },
    {
     "name": "stderr",
     "output_type": "stream",
     "text": [
      " 77%|████████████████████████████████████████████████████████▏                | 77/100 [79:10:42<23:33:03, 3686.23s/it]"
     ]
    },
    {
     "name": "stdout",
     "output_type": "stream",
     "text": [
      "val Loss: 0.2474 Acc: 0.9362\n",
      "\n",
      "Epoch 77/99\n",
      "----------\n",
      "train Loss: 0.1658 Acc: 0.9526\n"
     ]
    },
    {
     "name": "stderr",
     "output_type": "stream",
     "text": [
      " 78%|████████████████████████████████████████████████████████▉                | 78/100 [80:12:23<22:33:15, 3690.69s/it]"
     ]
    },
    {
     "name": "stdout",
     "output_type": "stream",
     "text": [
      "val Loss: 0.2474 Acc: 0.9362\n",
      "\n",
      "Epoch 78/99\n",
      "----------\n",
      "train Loss: 0.1546 Acc: 0.9559\n"
     ]
    },
    {
     "name": "stderr",
     "output_type": "stream",
     "text": [
      " 79%|█████████████████████████████████████████████████████████▋               | 79/100 [81:14:23<21:34:54, 3699.72s/it]"
     ]
    },
    {
     "name": "stdout",
     "output_type": "stream",
     "text": [
      "val Loss: 0.2474 Acc: 0.9362\n",
      "\n",
      "Epoch 79/99\n",
      "----------\n",
      "train Loss: 0.1617 Acc: 0.9532\n"
     ]
    },
    {
     "name": "stderr",
     "output_type": "stream",
     "text": [
      " 80%|██████████████████████████████████████████████████████████▍              | 80/100 [82:15:55<20:32:24, 3697.22s/it]"
     ]
    },
    {
     "name": "stdout",
     "output_type": "stream",
     "text": [
      "val Loss: 0.2474 Acc: 0.9362\n",
      "\n",
      "Epoch 80/99\n",
      "----------\n",
      "train Loss: 0.1566 Acc: 0.9552\n"
     ]
    },
    {
     "name": "stderr",
     "output_type": "stream",
     "text": [
      " 81%|███████████████████████████████████████████████████████████▏             | 81/100 [83:17:46<19:32:05, 3701.37s/it]"
     ]
    },
    {
     "name": "stdout",
     "output_type": "stream",
     "text": [
      "val Loss: 0.2474 Acc: 0.9362\n",
      "\n",
      "Epoch 81/99\n",
      "----------\n",
      "train Loss: 0.1552 Acc: 0.9531\n"
     ]
    },
    {
     "name": "stderr",
     "output_type": "stream",
     "text": [
      " 82%|███████████████████████████████████████████████████████████▊             | 82/100 [84:19:29<18:30:32, 3701.82s/it]"
     ]
    },
    {
     "name": "stdout",
     "output_type": "stream",
     "text": [
      "val Loss: 0.2474 Acc: 0.9362\n",
      "\n",
      "Epoch 82/99\n",
      "----------\n",
      "train Loss: 0.1598 Acc: 0.9549\n"
     ]
    },
    {
     "name": "stderr",
     "output_type": "stream",
     "text": [
      " 83%|████████████████████████████████████████████████████████████▌            | 83/100 [85:21:21<17:29:43, 3704.92s/it]"
     ]
    },
    {
     "name": "stdout",
     "output_type": "stream",
     "text": [
      "val Loss: 0.2474 Acc: 0.9362\n",
      "\n",
      "Epoch 83/99\n",
      "----------\n",
      "train Loss: 0.1558 Acc: 0.9528\n"
     ]
    },
    {
     "name": "stderr",
     "output_type": "stream",
     "text": [
      " 84%|█████████████████████████████████████████████████████████████▎           | 84/100 [86:22:42<16:26:02, 3697.66s/it]"
     ]
    },
    {
     "name": "stdout",
     "output_type": "stream",
     "text": [
      "val Loss: 0.2474 Acc: 0.9362\n",
      "\n",
      "Epoch 84/99\n",
      "----------\n",
      "train Loss: 0.1587 Acc: 0.9535\n"
     ]
    },
    {
     "name": "stderr",
     "output_type": "stream",
     "text": [
      " 85%|██████████████████████████████████████████████████████████████           | 85/100 [87:24:38<15:25:47, 3703.19s/it]"
     ]
    },
    {
     "name": "stdout",
     "output_type": "stream",
     "text": [
      "val Loss: 0.2474 Acc: 0.9362\n",
      "\n",
      "Epoch 85/99\n",
      "----------\n",
      "train Loss: 0.1517 Acc: 0.9566\n"
     ]
    },
    {
     "name": "stderr",
     "output_type": "stream",
     "text": [
      " 86%|██████████████████████████████████████████████████████████████▊          | 86/100 [88:26:06<14:23:02, 3698.75s/it]"
     ]
    },
    {
     "name": "stdout",
     "output_type": "stream",
     "text": [
      "val Loss: 0.2474 Acc: 0.9362\n",
      "\n",
      "Epoch 86/99\n",
      "----------\n",
      "train Loss: 0.1592 Acc: 0.9528\n"
     ]
    },
    {
     "name": "stderr",
     "output_type": "stream",
     "text": [
      " 87%|███████████████████████████████████████████████████████████████▌         | 87/100 [89:27:18<13:19:39, 3690.71s/it]"
     ]
    },
    {
     "name": "stdout",
     "output_type": "stream",
     "text": [
      "val Loss: 0.2474 Acc: 0.9362\n",
      "\n",
      "Epoch 87/99\n",
      "----------\n",
      "train Loss: 0.1639 Acc: 0.9520\n"
     ]
    },
    {
     "name": "stderr",
     "output_type": "stream",
     "text": [
      " 88%|████████████████████████████████████████████████████████████████▏        | 88/100 [90:28:36<12:17:24, 3687.01s/it]"
     ]
    },
    {
     "name": "stdout",
     "output_type": "stream",
     "text": [
      "val Loss: 0.2474 Acc: 0.9362\n",
      "\n",
      "Epoch 88/99\n",
      "----------\n",
      "train Loss: 0.1606 Acc: 0.9520\n"
     ]
    },
    {
     "name": "stderr",
     "output_type": "stream",
     "text": [
      " 89%|████████████████████████████████████████████████████████████████▉        | 89/100 [91:30:04<11:15:58, 3687.13s/it]"
     ]
    },
    {
     "name": "stdout",
     "output_type": "stream",
     "text": [
      "val Loss: 0.2474 Acc: 0.9362\n",
      "\n",
      "Epoch 89/99\n",
      "----------\n",
      "train Loss: 0.1509 Acc: 0.9551\n"
     ]
    },
    {
     "name": "stderr",
     "output_type": "stream",
     "text": [
      " 90%|█████████████████████████████████████████████████████████████████▋       | 90/100 [92:31:36<10:14:46, 3688.69s/it]"
     ]
    },
    {
     "name": "stdout",
     "output_type": "stream",
     "text": [
      "val Loss: 0.2474 Acc: 0.9362\n",
      "\n",
      "Epoch 90/99\n",
      "----------\n",
      "train Loss: 0.1588 Acc: 0.9543\n"
     ]
    },
    {
     "name": "stderr",
     "output_type": "stream",
     "text": [
      " 91%|███████████████████████████████████████████████████████████████████▎      | 91/100 [93:33:06<9:13:20, 3688.96s/it]"
     ]
    },
    {
     "name": "stdout",
     "output_type": "stream",
     "text": [
      "val Loss: 0.2474 Acc: 0.9362\n",
      "\n",
      "Epoch 91/99\n",
      "----------\n",
      "train Loss: 0.1597 Acc: 0.9541\n"
     ]
    },
    {
     "name": "stderr",
     "output_type": "stream",
     "text": [
      " 92%|████████████████████████████████████████████████████████████████████      | 92/100 [94:34:40<8:12:05, 3690.70s/it]"
     ]
    },
    {
     "name": "stdout",
     "output_type": "stream",
     "text": [
      "val Loss: 0.2474 Acc: 0.9362\n",
      "\n",
      "Epoch 92/99\n",
      "----------\n",
      "train Loss: 0.1628 Acc: 0.9522\n"
     ]
    },
    {
     "name": "stderr",
     "output_type": "stream",
     "text": [
      " 93%|████████████████████████████████████████████████████████████████████▊     | 93/100 [95:36:29<7:11:11, 3695.99s/it]"
     ]
    },
    {
     "name": "stdout",
     "output_type": "stream",
     "text": [
      "val Loss: 0.2474 Acc: 0.9362\n",
      "\n",
      "Epoch 93/99\n",
      "----------\n",
      "train Loss: 0.1564 Acc: 0.9531\n"
     ]
    },
    {
     "name": "stderr",
     "output_type": "stream",
     "text": [
      " 94%|█████████████████████████████████████████████████████████████████████▌    | 94/100 [96:37:40<6:08:51, 3688.55s/it]"
     ]
    },
    {
     "name": "stdout",
     "output_type": "stream",
     "text": [
      "val Loss: 0.2474 Acc: 0.9362\n",
      "\n",
      "Epoch 94/99\n",
      "----------\n",
      "train Loss: 0.1540 Acc: 0.9537\n"
     ]
    },
    {
     "name": "stderr",
     "output_type": "stream",
     "text": [
      " 95%|██████████████████████████████████████████████████████████████████████▎   | 95/100 [97:39:23<5:07:44, 3692.87s/it]"
     ]
    },
    {
     "name": "stdout",
     "output_type": "stream",
     "text": [
      "val Loss: 0.2474 Acc: 0.9362\n",
      "\n",
      "Epoch 95/99\n",
      "----------\n",
      "train Loss: 0.1608 Acc: 0.9523\n"
     ]
    },
    {
     "name": "stderr",
     "output_type": "stream",
     "text": [
      " 96%|███████████████████████████████████████████████████████████████████████   | 96/100 [98:40:17<4:05:25, 3681.32s/it]"
     ]
    },
    {
     "name": "stdout",
     "output_type": "stream",
     "text": [
      "val Loss: 0.2474 Acc: 0.9362\n",
      "\n",
      "Epoch 96/99\n",
      "----------\n",
      "train Loss: 0.1572 Acc: 0.9559\n"
     ]
    },
    {
     "name": "stderr",
     "output_type": "stream",
     "text": [
      " 97%|███████████████████████████████████████████████████████████████████████▊  | 97/100 [99:41:24<3:03:50, 3676.98s/it]"
     ]
    },
    {
     "name": "stdout",
     "output_type": "stream",
     "text": [
      "val Loss: 0.2474 Acc: 0.9362\n",
      "\n",
      "Epoch 97/99\n",
      "----------\n",
      "train Loss: 0.1655 Acc: 0.9487\n"
     ]
    },
    {
     "name": "stderr",
     "output_type": "stream",
     "text": [
      " 98%|███████████████████████████████████████████████████████████████████████▌ | 98/100 [100:42:44<2:02:35, 3677.73s/it]"
     ]
    },
    {
     "name": "stdout",
     "output_type": "stream",
     "text": [
      "val Loss: 0.2474 Acc: 0.9362\n",
      "\n",
      "Epoch 98/99\n",
      "----------\n",
      "train Loss: 0.1546 Acc: 0.9554\n"
     ]
    },
    {
     "name": "stderr",
     "output_type": "stream",
     "text": [
      " 99%|████████████████████████████████████████████████████████████████████████▎| 99/100 [101:44:10<1:01:20, 3680.23s/it]"
     ]
    },
    {
     "name": "stdout",
     "output_type": "stream",
     "text": [
      "val Loss: 0.2474 Acc: 0.9362\n",
      "\n",
      "Epoch 99/99\n",
      "----------\n",
      "train Loss: 0.1568 Acc: 0.9535\n"
     ]
    },
    {
     "name": "stderr",
     "output_type": "stream",
     "text": [
      "100%|██████████████████████████████████████████████████████████████████████████| 100/100 [102:45:35<00:00, 3699.36s/it]"
     ]
    },
    {
     "name": "stdout",
     "output_type": "stream",
     "text": [
      "val Loss: 0.2474 Acc: 0.9362\n",
      "\n",
      "Best val Acc: 0.937810\n"
     ]
    },
    {
     "name": "stderr",
     "output_type": "stream",
     "text": [
      "\n"
     ]
    },
    {
     "data": {
      "text/plain": [
       "VGG(\n",
       "  (features): Sequential(\n",
       "    (0): Conv2d(3, 64, kernel_size=(3, 3), stride=(1, 1), padding=(1, 1))\n",
       "    (1): ReLU(inplace=True)\n",
       "    (2): Conv2d(64, 64, kernel_size=(3, 3), stride=(1, 1), padding=(1, 1))\n",
       "    (3): ReLU(inplace=True)\n",
       "    (4): MaxPool2d(kernel_size=2, stride=2, padding=0, dilation=1, ceil_mode=False)\n",
       "    (5): Conv2d(64, 128, kernel_size=(3, 3), stride=(1, 1), padding=(1, 1))\n",
       "    (6): ReLU(inplace=True)\n",
       "    (7): Conv2d(128, 128, kernel_size=(3, 3), stride=(1, 1), padding=(1, 1))\n",
       "    (8): ReLU(inplace=True)\n",
       "    (9): MaxPool2d(kernel_size=2, stride=2, padding=0, dilation=1, ceil_mode=False)\n",
       "    (10): Conv2d(128, 256, kernel_size=(3, 3), stride=(1, 1), padding=(1, 1))\n",
       "    (11): ReLU(inplace=True)\n",
       "    (12): Conv2d(256, 256, kernel_size=(3, 3), stride=(1, 1), padding=(1, 1))\n",
       "    (13): ReLU(inplace=True)\n",
       "    (14): Conv2d(256, 256, kernel_size=(3, 3), stride=(1, 1), padding=(1, 1))\n",
       "    (15): ReLU(inplace=True)\n",
       "    (16): Conv2d(256, 256, kernel_size=(3, 3), stride=(1, 1), padding=(1, 1))\n",
       "    (17): ReLU(inplace=True)\n",
       "    (18): MaxPool2d(kernel_size=2, stride=2, padding=0, dilation=1, ceil_mode=False)\n",
       "    (19): Conv2d(256, 512, kernel_size=(3, 3), stride=(1, 1), padding=(1, 1))\n",
       "    (20): ReLU(inplace=True)\n",
       "    (21): Conv2d(512, 512, kernel_size=(3, 3), stride=(1, 1), padding=(1, 1))\n",
       "    (22): ReLU(inplace=True)\n",
       "    (23): Conv2d(512, 512, kernel_size=(3, 3), stride=(1, 1), padding=(1, 1))\n",
       "    (24): ReLU(inplace=True)\n",
       "    (25): Conv2d(512, 512, kernel_size=(3, 3), stride=(1, 1), padding=(1, 1))\n",
       "    (26): ReLU(inplace=True)\n",
       "    (27): MaxPool2d(kernel_size=2, stride=2, padding=0, dilation=1, ceil_mode=False)\n",
       "    (28): Conv2d(512, 512, kernel_size=(3, 3), stride=(1, 1), padding=(1, 1))\n",
       "    (29): ReLU(inplace=True)\n",
       "    (30): Conv2d(512, 512, kernel_size=(3, 3), stride=(1, 1), padding=(1, 1))\n",
       "    (31): ReLU(inplace=True)\n",
       "    (32): Conv2d(512, 512, kernel_size=(3, 3), stride=(1, 1), padding=(1, 1))\n",
       "    (33): ReLU(inplace=True)\n",
       "    (34): Conv2d(512, 512, kernel_size=(3, 3), stride=(1, 1), padding=(1, 1))\n",
       "    (35): ReLU(inplace=True)\n",
       "    (36): MaxPool2d(kernel_size=2, stride=2, padding=0, dilation=1, ceil_mode=False)\n",
       "  )\n",
       "  (avgpool): AdaptiveAvgPool2d(output_size=(7, 7))\n",
       "  (classifier): Sequential(\n",
       "    (0): Linear(in_features=25088, out_features=4096, bias=True)\n",
       "    (1): ReLU(inplace=True)\n",
       "    (2): Dropout(p=0.5, inplace=False)\n",
       "    (3): Linear(in_features=4096, out_features=4096, bias=True)\n",
       "    (4): ReLU(inplace=True)\n",
       "    (5): Dropout(p=0.5, inplace=False)\n",
       "    (6): Linear(in_features=4096, out_features=25, bias=True)\n",
       "  )\n",
       ")"
      ]
     },
     "execution_count": 11,
     "metadata": {},
     "output_type": "execute_result"
    }
   ],
   "source": [
    "vgg_model.train(dataloaders, dataset_sizes, num_epochs=100)"
   ]
  },
  {
   "cell_type": "code",
   "execution_count": 12,
   "metadata": {
    "id": "aaVbvW6Wgbi8"
   },
   "outputs": [
    {
     "data": {
      "text/plain": [
       "VGG(\n",
       "  (features): Sequential(\n",
       "    (0): Conv2d(3, 64, kernel_size=(3, 3), stride=(1, 1), padding=(1, 1))\n",
       "    (1): ReLU(inplace=True)\n",
       "    (2): Conv2d(64, 64, kernel_size=(3, 3), stride=(1, 1), padding=(1, 1))\n",
       "    (3): ReLU(inplace=True)\n",
       "    (4): MaxPool2d(kernel_size=2, stride=2, padding=0, dilation=1, ceil_mode=False)\n",
       "    (5): Conv2d(64, 128, kernel_size=(3, 3), stride=(1, 1), padding=(1, 1))\n",
       "    (6): ReLU(inplace=True)\n",
       "    (7): Conv2d(128, 128, kernel_size=(3, 3), stride=(1, 1), padding=(1, 1))\n",
       "    (8): ReLU(inplace=True)\n",
       "    (9): MaxPool2d(kernel_size=2, stride=2, padding=0, dilation=1, ceil_mode=False)\n",
       "    (10): Conv2d(128, 256, kernel_size=(3, 3), stride=(1, 1), padding=(1, 1))\n",
       "    (11): ReLU(inplace=True)\n",
       "    (12): Conv2d(256, 256, kernel_size=(3, 3), stride=(1, 1), padding=(1, 1))\n",
       "    (13): ReLU(inplace=True)\n",
       "    (14): Conv2d(256, 256, kernel_size=(3, 3), stride=(1, 1), padding=(1, 1))\n",
       "    (15): ReLU(inplace=True)\n",
       "    (16): Conv2d(256, 256, kernel_size=(3, 3), stride=(1, 1), padding=(1, 1))\n",
       "    (17): ReLU(inplace=True)\n",
       "    (18): MaxPool2d(kernel_size=2, stride=2, padding=0, dilation=1, ceil_mode=False)\n",
       "    (19): Conv2d(256, 512, kernel_size=(3, 3), stride=(1, 1), padding=(1, 1))\n",
       "    (20): ReLU(inplace=True)\n",
       "    (21): Conv2d(512, 512, kernel_size=(3, 3), stride=(1, 1), padding=(1, 1))\n",
       "    (22): ReLU(inplace=True)\n",
       "    (23): Conv2d(512, 512, kernel_size=(3, 3), stride=(1, 1), padding=(1, 1))\n",
       "    (24): ReLU(inplace=True)\n",
       "    (25): Conv2d(512, 512, kernel_size=(3, 3), stride=(1, 1), padding=(1, 1))\n",
       "    (26): ReLU(inplace=True)\n",
       "    (27): MaxPool2d(kernel_size=2, stride=2, padding=0, dilation=1, ceil_mode=False)\n",
       "    (28): Conv2d(512, 512, kernel_size=(3, 3), stride=(1, 1), padding=(1, 1))\n",
       "    (29): ReLU(inplace=True)\n",
       "    (30): Conv2d(512, 512, kernel_size=(3, 3), stride=(1, 1), padding=(1, 1))\n",
       "    (31): ReLU(inplace=True)\n",
       "    (32): Conv2d(512, 512, kernel_size=(3, 3), stride=(1, 1), padding=(1, 1))\n",
       "    (33): ReLU(inplace=True)\n",
       "    (34): Conv2d(512, 512, kernel_size=(3, 3), stride=(1, 1), padding=(1, 1))\n",
       "    (35): ReLU(inplace=True)\n",
       "    (36): MaxPool2d(kernel_size=2, stride=2, padding=0, dilation=1, ceil_mode=False)\n",
       "  )\n",
       "  (avgpool): AdaptiveAvgPool2d(output_size=(7, 7))\n",
       "  (classifier): Sequential(\n",
       "    (0): Linear(in_features=25088, out_features=4096, bias=True)\n",
       "    (1): ReLU(inplace=True)\n",
       "    (2): Dropout(p=0.5, inplace=False)\n",
       "    (3): Linear(in_features=4096, out_features=4096, bias=True)\n",
       "    (4): ReLU(inplace=True)\n",
       "    (5): Dropout(p=0.5, inplace=False)\n",
       "    (6): Linear(in_features=4096, out_features=25, bias=True)\n",
       "  )\n",
       ")"
      ]
     },
     "execution_count": 12,
     "metadata": {},
     "output_type": "execute_result"
    }
   ],
   "source": [
    "vgg_model.load_model('../wipTrashy/trainedModel1_VGG19.pt', train_mode = False)"
   ]
  },
  {
   "cell_type": "code",
   "execution_count": null,
   "metadata": {
    "id": "oH7C90yygblQ"
   },
   "outputs": [],
   "source": [
    "vgg_model.visualize_model(dataloaders, num_images=25)"
   ]
  },
  {
   "cell_type": "code",
   "execution_count": null,
   "metadata": {
    "id": "q1KxufdCgbnj"
   },
   "outputs": [
    {
     "name": "stdout",
     "output_type": "stream",
     "text": [
      "Evaluating model on Test set\n",
      "----------\n",
      "Test batch 0/79"
     ]
    }
   ],
   "source": [
    "vgg_model.eval_model(dataloaders, mode = 'test')"
   ]
  },
  {
   "cell_type": "code",
   "execution_count": null,
   "metadata": {
    "id": "Wz3Lc865gb50"
   },
   "outputs": [],
   "source": []
  }
 ],
 "metadata": {
  "accelerator": "GPU",
  "colab": {
   "collapsed_sections": [],
   "name": "VGG-19 model for TrashBox dataset.ipynb",
   "provenance": []
  },
  "kernelspec": {
   "display_name": "Python 3 (ipykernel)",
   "language": "python",
   "name": "python3"
  },
  "language_info": {
   "codemirror_mode": {
    "name": "ipython",
    "version": 3
   },
   "file_extension": ".py",
   "mimetype": "text/x-python",
   "name": "python",
   "nbconvert_exporter": "python",
   "pygments_lexer": "ipython3",
   "version": "3.8.13"
  }
 },
 "nbformat": 4,
 "nbformat_minor": 4
}
